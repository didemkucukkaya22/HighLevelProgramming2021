{
 "cells": [
  {
   "cell_type": "markdown",
   "metadata": {},
   "source": [
    "1\\. Write a function that converts numbers among the bin, dec, and hex representations (bin<->dec<->hex)"
   ]
  },
  {
   "cell_type": "code",
   "execution_count": 1,
   "metadata": {},
   "outputs": [
    {
     "name": "stdout",
     "output_type": "stream",
     "text": [
      "The decimal value of 87 is:\n",
      "0b1010111 in binary.\n",
      "0o127 in octal.\n",
      "0x57 in hexadecimal.\n"
     ]
    }
   ],
   "source": [
    "dec = 87\n",
    "\n",
    "print(\"The decimal value of\", dec, \"is:\")\n",
    "\n",
    "print(bin(dec), \"in binary.\")\n",
    "\n",
    "print(oct(dec), \"in octal.\")\n",
    "\n",
    "print(hex(dec), \"in hexadecimal.\")"
   ]
  },
  {
   "cell_type": "code",
   "execution_count": 2,
   "metadata": {},
   "outputs": [
    {
     "name": "stdout",
     "output_type": "stream",
     "text": [
      "0b110010\n",
      "0x32\n",
      "3\n",
      "0x3\n",
      "21\n",
      "0b10101\n"
     ]
    }
   ],
   "source": [
    "def convert(n, n_out):\n",
    "    inputt = (str)(n)\n",
    "    output = \"\"\n",
    "    \n",
    "    if inputt[0:2]=='0b':\n",
    "        n = int(n, 2)\n",
    "        if n_out == \"hex\":\n",
    "            output = hex(n)\n",
    "        else:\n",
    "            output = n\n",
    "            \n",
    "    elif inputt[0:2]=='0x':\n",
    "        n = int(n, 16)\n",
    "        if n_out == \"bin\":\n",
    "            output = bin(n)\n",
    "        else:\n",
    "            output = n\n",
    "            \n",
    "    else:\n",
    "        if n_out == \"bin\":\n",
    "            output = bin(n)\n",
    "        else:\n",
    "            output = hex(n)\n",
    "\n",
    "    return output\n",
    "\n",
    "\n",
    "print(convert(50, \"bin\"))\n",
    "print(convert(50, \"hex\"))\n",
    "\n",
    "print(convert(\"0b11\", \"dec\"))\n",
    "print(convert(\"0b11\", \"hex\"))\n",
    "\n",
    "print(convert(\"0x15\", \"dec\"))\n",
    "print(convert(\"0x15\", \"bin\"))"
   ]
  },
  {
   "cell_type": "markdown",
   "metadata": {},
   "source": [
    "2\\. Write a function that converts a 32 bit word into a single precision floating point (i.e. interprets the various bits as sign, mantissa and exponent) and check its validity."
   ]
  },
  {
   "cell_type": "code",
   "execution_count": 3,
   "metadata": {},
   "outputs": [
    {
     "name": "stdout",
     "output_type": "stream",
     "text": [
      "Binary equivalent of 17.5:\n",
      "100000000110001100000000000000000000000000000000000000000000000\n",
      "\n",
      "Decimal equivalent of 100000000110001100000000000000000000000000000000000000000000000\n",
      "17.5\n"
     ]
    }
   ],
   "source": [
    "import struct\n",
    "\n",
    "getBin = lambda x: x > 0 and str(bin(x))[2:] or \"-\" + str(bin(x))[3:]\n",
    "\n",
    "def floatToBinary64(value):\n",
    "    val = struct.unpack('Q', struct.pack('d', value))[0]\n",
    "    return getBin(val)\n",
    "\n",
    "def binaryToFloat(value):\n",
    "    hx = hex(int(value, 2))   \n",
    "    return struct.unpack(\"d\", struct.pack(\"q\", int(hx, 16)))[0]\n",
    "\n",
    "# floats are represented by IEEE 754 floating-point format which are \n",
    "# 64 bits long (not 32 bits)\n",
    "\n",
    "# float to binary\n",
    "binstr = floatToBinary64(17.5)\n",
    "print('Binary equivalent of 17.5:')\n",
    "print(binstr + '\\n')\n",
    "\n",
    "# binary to float\n",
    "fl = binaryToFloat(binstr)\n",
    "print('Decimal equivalent of ' + binstr)\n",
    "print(fl)"
   ]
  },
  {
   "cell_type": "code",
   "execution_count": 4,
   "metadata": {},
   "outputs": [
    {
     "name": "stdout",
     "output_type": "stream",
     "text": [
      "15.0\n",
      "3.1415927410125732\n",
      "-24.0\n"
     ]
    }
   ],
   "source": [
    "my_word = \"01000001011100000000000000000000\" # 15\n",
    "my_word2 = \"01000000010010010000111111011011\" # around 3.14\n",
    "my_word3 = \"11000001110000000000000000000000\" # -24\n",
    "\n",
    "def bintofloat(word):\n",
    "    sign = 1\n",
    "    if word[0] == \"1\":\n",
    "        sign = -1\n",
    "        \n",
    "    exponent = \"\"\n",
    "    for i in range(8):\n",
    "        exponent = exponent + word[i+1]\n",
    "    \n",
    "    mantissa = \"\"    \n",
    "    for i in range(23):\n",
    "        mantissa = mantissa + word[i+9]\n",
    "        \n",
    "    exponent_convert = int(exponent, 2) - 127    \n",
    "        \n",
    "    mantissa_convert = 0\n",
    "    for i in range(23):\n",
    "        if mantissa[i] == \"1\":\n",
    "            mantissa_convert = mantissa_convert + 2**(-1*(i+1))\n",
    "            \n",
    "    return sign * (1 + mantissa_convert) * (2 ** exponent_convert)\n",
    "    \n",
    "print(bintofloat(my_word)) # 15\n",
    "print(bintofloat(my_word2)) # around 3.14\n",
    "print(bintofloat(my_word3)) # -24"
   ]
  },
  {
   "cell_type": "code",
   "execution_count": 5,
   "metadata": {},
   "outputs": [
    {
     "name": "stdout",
     "output_type": "stream",
     "text": [
      "Becomes inf after  1024  iteration while doubling (prints are in comment lines for a clear view)\n",
      "Value after  1023 iteration:  8.98846567431158e+307\n",
      "Becomes 0 after  1075  iteration while halving (prints are in comment lines for a clear view)\n",
      "Value after  1074 iteration:  5e-324\n"
     ]
    }
   ],
   "source": [
    "import math as m\n",
    "\n",
    "number = 1.0\n",
    "overflow = 0\n",
    "counter = 1\n",
    "while number != m.inf:\n",
    "    overflow = number\n",
    "    number = number * 2\n",
    "#    print (counter, 'Over: ', number)\n",
    "    counter += 1\n",
    "print(\"Becomes inf after \", counter-1, \" iteration while doubling (prints are in comment lines for a clear view)\")\n",
    "print(\"Value after \", counter-2, \"iteration: \", overflow)\n",
    "\n",
    "number = 1.0\n",
    "underflow = 0\n",
    "counter = 1\n",
    "while number != 0:\n",
    "    underflow = number\n",
    "    number = number / 2\n",
    "#    print (counter, 'Over: ', number)\n",
    "    counter += 1\n",
    "print(\"Becomes 0 after \", counter-1, \" iteration while halving (prints are in comment lines for a clear view)\")\n",
    "print(\"Value after \", counter-2, \"iteration: \", underflow)"
   ]
  },
  {
   "cell_type": "markdown",
   "metadata": {},
   "source": [
    "4\\. Write a program to determine the machine precision\n",
    "\n",
    "**Tip**: define a new variable by adding an increasingly smaller value (in the same way as the previous problem) and check when the addition starts to have no effect on the number"
   ]
  },
  {
   "cell_type": "code",
   "execution_count": 6,
   "metadata": {},
   "outputs": [
    {
     "name": "stdout",
     "output_type": "stream",
     "text": [
      "2   0.5\n",
      "3   1.25\n",
      "4   2.125\n",
      "5   3.0625\n",
      "6   4.03125\n",
      "7   5.015625\n",
      "8   6.0078125\n",
      "9   7.00390625\n",
      "10   8.001953125\n",
      "11   9.0009765625\n"
     ]
    }
   ],
   "source": [
    "A=10\n",
    "\n",
    "Range=10\n",
    "\n",
    "Number=1\n",
    "\n",
    "m=1\n",
    "\n",
    "Factor=2\n",
    "\n",
    "d=1\n",
    "\n",
    "for Number in range(Range):\n",
    "    \n",
    "    m=m/Factor\n",
    "    \n",
    "    Number=Number+m\n",
    "    \n",
    "    d+=1\n",
    "    \n",
    "    print(d, \" \" , Number)"
   ]
  },
  {
   "cell_type": "code",
   "execution_count": 7,
   "metadata": {},
   "outputs": [
    {
     "name": "stdout",
     "output_type": "stream",
     "text": [
      "Iteration:  1 Prev Number:  1 Number :  1.5\n",
      "Iteration:  2 Prev Number:  1.5 Number :  1.75\n",
      "Iteration:  3 Prev Number:  1.75 Number :  1.875\n",
      "Iteration:  4 Prev Number:  1.875 Number :  1.9375\n",
      "Iteration:  5 Prev Number:  1.9375 Number :  1.96875\n",
      "Iteration:  6 Prev Number:  1.96875 Number :  1.984375\n",
      "Iteration:  7 Prev Number:  1.984375 Number :  1.9921875\n",
      "Iteration:  8 Prev Number:  1.9921875 Number :  1.99609375\n",
      "Iteration:  9 Prev Number:  1.99609375 Number :  1.998046875\n",
      "Iteration:  10 Prev Number:  1.998046875 Number :  1.9990234375\n",
      "Iteration:  11 Prev Number:  1.9990234375 Number :  1.99951171875\n",
      "Iteration:  12 Prev Number:  1.99951171875 Number :  1.999755859375\n",
      "Iteration:  13 Prev Number:  1.999755859375 Number :  1.9998779296875\n",
      "Iteration:  14 Prev Number:  1.9998779296875 Number :  1.99993896484375\n",
      "Iteration:  15 Prev Number:  1.99993896484375 Number :  1.999969482421875\n",
      "Iteration:  16 Prev Number:  1.999969482421875 Number :  1.9999847412109375\n",
      "Iteration:  17 Prev Number:  1.9999847412109375 Number :  1.9999923706054688\n",
      "Iteration:  18 Prev Number:  1.9999923706054688 Number :  1.9999961853027344\n",
      "Iteration:  19 Prev Number:  1.9999961853027344 Number :  1.9999980926513672\n",
      "Iteration:  20 Prev Number:  1.9999980926513672 Number :  1.9999990463256836\n",
      "Iteration:  21 Prev Number:  1.9999990463256836 Number :  1.9999995231628418\n",
      "Iteration:  22 Prev Number:  1.9999995231628418 Number :  1.999999761581421\n",
      "Iteration:  23 Prev Number:  1.999999761581421 Number :  1.9999998807907104\n",
      "Iteration:  24 Prev Number:  1.9999998807907104 Number :  1.9999999403953552\n",
      "Iteration:  25 Prev Number:  1.9999999403953552 Number :  1.9999999701976776\n",
      "Iteration:  26 Prev Number:  1.9999999701976776 Number :  1.9999999850988388\n",
      "Iteration:  27 Prev Number:  1.9999999850988388 Number :  1.9999999925494194\n",
      "Iteration:  28 Prev Number:  1.9999999925494194 Number :  1.9999999962747097\n",
      "Iteration:  29 Prev Number:  1.9999999962747097 Number :  1.9999999981373549\n",
      "Iteration:  30 Prev Number:  1.9999999981373549 Number :  1.9999999990686774\n",
      "Iteration:  31 Prev Number:  1.9999999990686774 Number :  1.9999999995343387\n",
      "Iteration:  32 Prev Number:  1.9999999995343387 Number :  1.9999999997671694\n",
      "Iteration:  33 Prev Number:  1.9999999997671694 Number :  1.9999999998835847\n",
      "Iteration:  34 Prev Number:  1.9999999998835847 Number :  1.9999999999417923\n",
      "Iteration:  35 Prev Number:  1.9999999999417923 Number :  1.9999999999708962\n",
      "Iteration:  36 Prev Number:  1.9999999999708962 Number :  1.999999999985448\n",
      "Iteration:  37 Prev Number:  1.999999999985448 Number :  1.999999999992724\n",
      "Iteration:  38 Prev Number:  1.999999999992724 Number :  1.999999999996362\n",
      "Iteration:  39 Prev Number:  1.999999999996362 Number :  1.999999999998181\n",
      "Iteration:  40 Prev Number:  1.999999999998181 Number :  1.9999999999990905\n",
      "Iteration:  41 Prev Number:  1.9999999999990905 Number :  1.9999999999995453\n",
      "Iteration:  42 Prev Number:  1.9999999999995453 Number :  1.9999999999997726\n",
      "Iteration:  43 Prev Number:  1.9999999999997726 Number :  1.9999999999998863\n",
      "Iteration:  44 Prev Number:  1.9999999999998863 Number :  1.9999999999999432\n",
      "Iteration:  45 Prev Number:  1.9999999999999432 Number :  1.9999999999999716\n",
      "Iteration:  46 Prev Number:  1.9999999999999716 Number :  1.9999999999999858\n",
      "Iteration:  47 Prev Number:  1.9999999999999858 Number :  1.999999999999993\n",
      "Iteration:  48 Prev Number:  1.999999999999993 Number :  1.9999999999999964\n",
      "Iteration:  49 Prev Number:  1.9999999999999964 Number :  1.9999999999999982\n",
      "Iteration:  50 Prev Number:  1.9999999999999982 Number :  1.9999999999999991\n",
      "Iteration:  51 Prev Number:  1.9999999999999991 Number :  1.9999999999999996\n",
      "Iteration:  52 Prev Number:  1.9999999999999996 Number :  1.9999999999999998\n",
      "Iteration:  53 Prev Number:  1.9999999999999998 Number :  2.0\n",
      "Iteration:  54 Prev Number:  2.0 Number :  2.0\n"
     ]
    }
   ],
   "source": [
    "number = 1\n",
    "prev_number = 0\n",
    "counter = 1\n",
    "\n",
    "while prev_number != number:\n",
    "    prev_number = number\n",
    "    number = number + 2**(-1 * counter)\n",
    "    print(\"Iteration: \", counter, \"Prev Number: \", prev_number, \"Number : \", number)\n",
    "    counter += 1"
   ]
  },
  {
   "cell_type": "markdown",
   "metadata": {},
   "source": [
    "5\\. Write a function that takes in input three parameters $a$, $b$ and $c$ and prints out the two solutions to the quadratic equation $ax^2+bx+c=0$ using the standard formula:\n",
    "$$\n",
    "x=\\frac{-b\\pm\\sqrt{b^2-4ac}}{2a}\n",
    "$$\n",
    "\n",
    "(a) use the program to compute the solution for $a=0.001$, $b=1000$ and $c=0.001$\n",
    "\n",
    "(b) re-express the standard solution formula by multiplying the numerator and the denominator by $-b\\mp\\sqrt{b^2-4ac}$ and again find the solution for $a=0.001$, $b=1000$ and $c=0.001$. How does it compare with what has been previously obtained, and why?\n",
    "\n",
    "(c) write a function that computes the roots of a quadratic equation accurately in all cases"
   ]
  },
  {
   "cell_type": "code",
   "execution_count": 8,
   "metadata": {},
   "outputs": [
    {
     "name": "stdout",
     "output_type": "stream",
     "text": [
      "A:  (-9.999894245993346e-07, -999999.999999)\n",
      "B:  (-9.999894245993346e-07, -999999.9999990001)\n",
      "C:  (-9.999894245993346e-07, -999999.999999)\n"
     ]
    }
   ],
   "source": [
    "import math as m\n",
    "\n",
    "def standart(a, b, c):\n",
    "    x1 = ((-b) + m.sqrt(b**2 - 4 * a * c)) / (2*a)\n",
    "    x2 = ((-b) - m.sqrt(b**2 - 4 * a * c)) / (2*a)\n",
    "    return x1, x2\n",
    "print('A: ', standart(0.001,1000,0.001))\n",
    "\n",
    "def standart_multiplied(a, b, c):\n",
    "    x1 = (((-b) + m.sqrt(b**2 - 4 * a * c)) * ((-b) - m.sqrt(b**2 - 4 * a * c))) / ((2*a) * ((-b) - m.sqrt(b**2 - 4 * a * c)))\n",
    "    x2 = (((-b) - m.sqrt(b**2 - 4 * a * c)) * ((-b) + m.sqrt(b**2 - 4 * a * c))) / ((2*a) * ((-b) + m.sqrt(b**2 - 4 * a * c)))\n",
    "    return x1, x2\n",
    "print('B: ', standart_multiplied(0.001,1000,0.001))\n",
    "\n",
    "# The results had to be exactly the same while there was a small difference in the decimals. \n",
    "# This is happening because of the limited precision of the floating numbers. Even equal algorithms should give the same result\n",
    "# their results may differ due to it.\n",
    "\n",
    "def accurately(a, b, c):\n",
    "    delta = b**2 - 4 * a * c \n",
    "    if delta == 0:\n",
    "        return delta\n",
    "    elif delta > 0:\n",
    "        x1 = (((-b) + m.sqrt(delta)) / (2*a))\n",
    "        x2 = (((-b) - m.sqrt(delta)) / (2*a))\n",
    "        return x1, x2\n",
    "    else:\n",
    "        return \"No Real Root\"\n",
    "print('C: ', accurately(0.001,1000,0.001))"
   ]
  },
  {
   "cell_type": "markdown",
   "metadata": {},
   "source": [
    "6\\. Write a program that implements the function $f(x)=x(x−1)$\n",
    "\n",
    "(a) Calculate the derivative of the function at the point $x = 1$ using the derivative definition:\n",
    "\n",
    "$$\n",
    "\\frac{{\\rm d}f}{{\\rm d}x} = \\lim_{\\delta\\to0} \\frac{f(x+\\delta)-f(x)}{\\delta}\n",
    "$$\n",
    "\n",
    "with $\\delta = 10^{−2}$. Calculate the true value of the same derivative analytically and compare it with the answer your program gives. The two will not agree perfectly. Why?\n",
    "\n",
    "(b) Repeat the calculation for $\\delta = 10^{−4}, 10^{−6}, 10^{−8}, 10^{−10}, 10^{−12}$ and $10^{−14}$. How does the accuracy scales with $\\delta$?"
   ]
  },
  {
   "cell_type": "code",
   "execution_count": 9,
   "metadata": {},
   "outputs": [
    {
     "name": "stdout",
     "output_type": "stream",
     "text": [
      "Derivative:  1.010000000000001\n",
      "Sigma:  0.0001 Derivative:  1.0000999999998899 Difference(error):  1.1013412404281553e-13\n",
      "Sigma:  1e-06 Derivative:  1.0000009999177333 Difference(error):  8.22666379463044e-11\n",
      "Sigma:  1e-08 Derivative:  1.0000000039225287 Difference(error):  6.077471192966755e-09\n",
      "Sigma:  1e-10 Derivative:  1.000000082840371 Difference(error):  8.274037099909037e-08\n",
      "Sigma:  1e-12 Derivative:  1.0000889005833413 Difference(error):  8.890058234123366e-05\n",
      "Sigma:  1e-14 Derivative:  0.9992007221626509 Difference(error):  0.0007992778373591136\n"
     ]
    }
   ],
   "source": [
    "def f(x):\n",
    "    return x*(x-1)\n",
    "\n",
    "x = 1\n",
    "sigma = 10**-2\n",
    "#sigma = 10**-5\n",
    "derivative = (f(x + sigma) - f(x)) / sigma\n",
    "print(\"Derivative: \", derivative)\n",
    "# while the analytic result had to be 1+𝛿, the result is different than the analytic result with a very small fraction.\n",
    "# when we increase the sigma, the result comes closer to the correct result. this is happening because the function is\n",
    "# well-conditioned but the algorithm is numerically unstable.\n",
    " \n",
    "sigma = [10**(-4) ,10**(-6),10**(-8) ,10**(-10) ,10**(-12) ,10**(-14)]\n",
    "for s in sigma:\n",
    "    derivative = (f(x+s) - f(x)) / s\n",
    "    print(\"Sigma: \", s, \"Derivative: \", derivative, \"Difference(error): \", abs((1+s)-derivative))\n",
    "    \n",
    "# the accuracy increasing while the sigma is increasing."
   ]
  },
  {
   "cell_type": "markdown",
   "metadata": {},
   "source": [
    "7\\. Consider the integral of the semicircle of radius 1:\n",
    "$$\n",
    "I=\\int_{-1}^{1} \\sqrt(1-x^2) {\\rm d}x\n",
    "$$\n",
    "which is known to be $I=\\frac{\\pi}{2}=1.57079632679...$.\n",
    "\n",
    "Alternatively we can use the Riemann definition of the integral:\n",
    "$$\n",
    "I=\\lim_{N\\to\\infty} \\sum_{k=1}^{N} h y_k \n",
    "$$\n",
    "\n",
    "with $h=2/N$ the width of each of the $N$ slices the domain is divided into and where\n",
    "$y_k$ is the value of the function at the $k-$th slice.\n",
    "\n",
    "(a) Write a program to compute the integral with $N=100$. How does the result compare to the true value?\n",
    "\n",
    "(b) How much can $N$ be increased if the computation needs to be run in less than a second? What is the gain in running it for 1 minute? \n"
   ]
  },
  {
   "cell_type": "code",
   "execution_count": 10,
   "metadata": {},
   "outputs": [
    {
     "name": "stdout",
     "output_type": "stream",
     "text": [
      "Result:  1.5691342555492493 N: 100  Error:  0.001662071245647212\n",
      "Wall time: 1.98 s\n",
      "Result:  1.5707963266014666 N: 4000000  Error:  1.9342993873294745e-10\n",
      "Wall time: 1min 58s\n",
      "Result:  1.570796330137615 N: 4000000*60  Error:  3.3427185464063314e-09\n"
     ]
    }
   ],
   "source": [
    "import math as m\n",
    "\n",
    "def f(x):\n",
    "    return m.sqrt(1 - x * x)\n",
    "\n",
    "def integral(f, N, I, y):\n",
    "    h = 2/N\n",
    "   \n",
    "    for i in range(N):\n",
    "        I += h * f(y)\n",
    "        y += h\n",
    "    return I\n",
    "\n",
    "# a\n",
    "result = integral(f, 100, 0, -1)\n",
    "print(\"Result: \", result, \"N: 100\", \" Error: \", abs(result - m.pi/2))\n",
    "# the result is very close to the true value\n",
    "\n",
    "# b\n",
    "%time result = integral(f, 4100000, 0, -1)\n",
    "print(\"Result: \", result, \"N: 4000000\", \" Error: \", abs(result - m.pi/2))\n",
    "\n",
    "%time result = integral(f, 4100000*60, 0, -1)\n",
    "print(\"Result: \", result, \"N: 4000000*60\", \" Error: \", abs(result - m.pi/2))\n",
    "# the result gets worse when we run for 1 minute but the difference is negligible.  \n",
    "\n",
    "#%time result = integral(f, 4100000*160, 0, -1)\n",
    "#print(\"Result: \", result, \"N: 4000000*160\", \" Error: \", abs(result - m.pi/2)) "
   ]
  }
 ],
 "metadata": {
  "kernelspec": {
   "display_name": "Python 3",
   "language": "python",
   "name": "python3"
  },
  "language_info": {
   "codemirror_mode": {
    "name": "ipython",
    "version": 3
   },
   "file_extension": ".py",
   "mimetype": "text/x-python",
   "name": "python",
   "nbconvert_exporter": "python",
   "pygments_lexer": "ipython3",
   "version": "3.8.8"
  }
 },
 "nbformat": 4,
 "nbformat_minor": 2
}
